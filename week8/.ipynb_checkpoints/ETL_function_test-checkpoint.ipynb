{
 "cells": [
  {
   "cell_type": "code",
   "execution_count": 18,
   "metadata": {},
   "outputs": [
    {
     "ename": "NameError",
     "evalue": "name 'kaggle_metadata' is not defined",
     "output_type": "error",
     "traceback": [
      "\u001b[1;31m---------------------------------------------------------------------------\u001b[0m",
      "\u001b[1;31mNameError\u001b[0m                                 Traceback (most recent call last)",
      "Input \u001b[1;32mIn [18]\u001b[0m, in \u001b[0;36m<cell line: 42>\u001b[1;34m()\u001b[0m\n\u001b[0;32m     39\u001b[0m ratings_file \u001b[38;5;241m=\u001b[39m \u001b[38;5;124mf\u001b[39m\u001b[38;5;124m'\u001b[39m\u001b[38;5;132;01m{\u001b[39;00mfile_dir\u001b[38;5;132;01m}\u001b[39;00m\u001b[38;5;124m/ratings.csv\u001b[39m\u001b[38;5;124m'\u001b[39m\n\u001b[0;32m     41\u001b[0m \u001b[38;5;66;03m# 7. Set the three variables in Step 6 equal to the function created in Step 1.\u001b[39;00m\n\u001b[1;32m---> 42\u001b[0m wiki_file, kaggle_file, ratings_file \u001b[38;5;241m=\u001b[39m \u001b[43mextract_transform_load\u001b[49m\u001b[43m(\u001b[49m\u001b[43mwiki_file\u001b[49m\u001b[43m,\u001b[49m\u001b[43m \u001b[49m\u001b[43mkaggle_file\u001b[49m\u001b[43m,\u001b[49m\u001b[43mratings_file\u001b[49m\u001b[43m)\u001b[49m\n",
      "Input \u001b[1;32mIn [18]\u001b[0m, in \u001b[0;36mextract_transform_load\u001b[1;34m(wiki_data, kaggle_data, ratings_data)\u001b[0m\n\u001b[0;32m     27\u001b[0m wiki_movies_df \u001b[38;5;241m=\u001b[39m pd\u001b[38;5;241m.\u001b[39mDataFrame(wiki_movies_raw)\n\u001b[0;32m     29\u001b[0m \u001b[38;5;66;03m# 5. Return the three DataFrames\u001b[39;00m\n\u001b[1;32m---> 30\u001b[0m \u001b[38;5;28;01mreturn\u001b[39;00m wiki_movies_df, \u001b[43mkaggle_metadata\u001b[49m, ratings\n",
      "\u001b[1;31mNameError\u001b[0m: name 'kaggle_metadata' is not defined"
     ]
    }
   ],
   "source": [
    "import json\n",
    "import pandas as pd\n",
    "import numpy as np\n",
    "\n",
    "import re\n",
    "\n",
    "from sqlalchemy import create_engine\n",
    "import psycopg2\n",
    "\n",
    "from config import db_password\n",
    "import time\n",
    "\n",
    "\n",
    "# 1. Create a function that takes in three arguments;\n",
    "# Wikipedia data, Kaggle metadata, and MovieLens rating data (from Kaggle)\n",
    "\n",
    "def extract_transform_load(wiki_data, kaggle_data, ratings_data):\n",
    "    \n",
    "    # 2. Read in the kaggle metadata and MovieLens ratings CSV files as Pandas DataFrames.\n",
    "    kaggle_file = './Movies-ETL/movies_metadata.csv'\n",
    "\n",
    "    # 3. Open the read the Wikipedia data JSON file. (module 8.3.8)\n",
    "    with open(wiki_data, mode='r') as file:\n",
    "        wiki_movies_raw = json.load(file)\n",
    "    \n",
    "    # 4. Read in the raw wiki movie data as a Pandas DataFrame.\n",
    "    wiki_movies_df = pd.DataFrame(wiki_movies_raw)\n",
    "    \n",
    "    # 5. Return the three DataFrames\n",
    "    return wiki_movies_df, kaggle_metadata, ratings\n",
    "\n",
    "# 6 Create the path to your file directory and variables for the three files. (hint some are already done)\n",
    "file_dir = '/resource/'\n",
    "# Wikipedia data\n",
    "wiki_file = './Movies-ETL/resources/wikipedia-movies.json'\n",
    "# Kaggle metadata\n",
    "kaggle_file = './Movies-ETL/movies_metadata.csv'\n",
    "# MovieLens rating data.\n",
    "ratings_file = f'{file_dir}/ratings.csv'\n",
    "\n",
    "# 7. Set the three variables in Step 6 equal to the function created in Step 1.\n",
    "wiki_file, kaggle_file, ratings_file = extract_transform_load(wiki_file, kaggle_file,ratings_file)"
   ]
  },
  {
   "cell_type": "code",
   "execution_count": 13,
   "metadata": {},
   "outputs": [
    {
     "name": "stdout",
     "output_type": "stream",
     "text": [
      " Volume in drive C is Windows\n",
      " Volume Serial Number is CEB5-12C3\n",
      "\n",
      " Directory of C:\\Users\\petec\\Desktop\\week8\n",
      "\n",
      "04/15/2022  11:18 PM    <DIR>          .\n",
      "04/14/2022  07:23 PM    <DIR>          ..\n",
      "04/15/2022  09:28 PM    <DIR>          .ipynb_checkpoints\n",
      "04/05/2022  08:29 PM    <DIR>          8-1-Student_Resources\n",
      "04/07/2022  09:50 AM    <DIR>          8-2-Student_Resources\n",
      "04/15/2022  03:25 PM                26 config.py\n",
      "04/15/2022  11:18 PM            17,841 ETL_function_test.ipynb\n",
      "04/15/2022  10:42 PM    <DIR>          Movies-ETL\n",
      "04/15/2022  10:27 PM    <DIR>          __pycache__\n",
      "               2 File(s)         17,867 bytes\n",
      "               7 Dir(s)  160,151,429,120 bytes free\n"
     ]
    }
   ],
   "source": [
    "!dir"
   ]
  },
  {
   "cell_type": "code",
   "execution_count": 2,
   "metadata": {},
   "outputs": [],
   "source": [
    "# 8. Set the DataFrames from the return statement equal to the file names in Step 6. \n",
    "wiki_movies_df = wiki_file\n",
    "kaggle_metadata = kaggle_file\n",
    "ratings = ratings_file"
   ]
  },
  {
   "cell_type": "code",
   "execution_count": 3,
   "metadata": {},
   "outputs": [],
   "source": [
    "# 9. Check the wiki_movies_df DataFrame.\n",
    "wiki_movies_df.head()"
   ]
  },
  {
   "cell_type": "code",
   "execution_count": 4,
   "metadata": {},
   "outputs": [],
   "source": [
    "# 10. Check the kaggle_metadata DataFrame.\n",
    "kaggle_metadata.head()"
   ]
  },
  {
   "cell_type": "code",
   "execution_count": 5,
   "metadata": {},
   "outputs": [],
   "source": [
    "# 11. Check the ratings DataFrame.\n",
    "ratings.head()"
   ]
  },
  {
   "cell_type": "code",
   "execution_count": null,
   "metadata": {},
   "outputs": [],
   "source": []
  }
 ],
 "metadata": {
  "kernelspec": {
   "display_name": "Python 3 (ipykernel)",
   "language": "python",
   "name": "python3"
  },
  "language_info": {
   "codemirror_mode": {
    "name": "ipython",
    "version": 3
   },
   "file_extension": ".py",
   "mimetype": "text/x-python",
   "name": "python",
   "nbconvert_exporter": "python",
   "pygments_lexer": "ipython3",
   "version": "3.9.7"
  }
 },
 "nbformat": 4,
 "nbformat_minor": 2
}
